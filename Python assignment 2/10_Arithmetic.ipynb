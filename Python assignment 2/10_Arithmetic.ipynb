{
 "cells": [
  {
   "cell_type": "code",
   "execution_count": null,
   "metadata": {},
   "outputs": [],
   "source": [
    "#Reads two integers\n",
    "a = int(input(\"Enter 1st integer(a):\"))\n",
    "b = int(input(\"Enter 2nd integer(b):\"))"
   ]
  },
  {
   "cell_type": "code",
   "execution_count": null,
   "metadata": {},
   "outputs": [],
   "source": [
    "#Sum of a and b\n",
    "sum_of_num = a+b"
   ]
  },
  {
   "cell_type": "code",
   "execution_count": null,
   "metadata": {},
   "outputs": [],
   "source": [
    "#difference when b is subtracted from a\n",
    "if a>b:\n",
    "    difference = a-b\n",
    "else:\n",
    "    difference = b-a"
   ]
  },
  {
   "cell_type": "code",
   "execution_count": null,
   "metadata": {},
   "outputs": [],
   "source": [
    "#product of a and b\n",
    "product = a*b"
   ]
  },
  {
   "cell_type": "code",
   "execution_count": null,
   "metadata": {},
   "outputs": [],
   "source": [
    "#quotient of a devided by b\n",
    "quotient = int(a/b)"
   ]
  },
  {
   "cell_type": "code",
   "execution_count": null,
   "metadata": {},
   "outputs": [],
   "source": [
    "#reminder of a devided by b\n",
    "reminder = a - (quotient * b)"
   ]
  },
  {
   "cell_type": "code",
   "execution_count": null,
   "metadata": {},
   "outputs": [],
   "source": [
    "# log of a base 10\n",
    "import math as m\n",
    "log_a = m.log10(a)"
   ]
  },
  {
   "cell_type": "code",
   "execution_count": null,
   "metadata": {},
   "outputs": [],
   "source": [
    "#Printing all the values\n",
    "print(\"Sum of a,b :\",sum_of_num)\n",
    "print(\"Difference of a,b :\",difference)\n",
    "print(\"Product of a,b :\",product)\n",
    "print(\"Quotient of a devided by b :\",quotient)\n",
    "print(\"Reminder of a devided by b :\",reminder)\n",
    "print(\"Log of\",a,\"base 10 :\",log_a)"
   ]
  }
 ],
 "metadata": {
  "kernelspec": {
   "display_name": "Python 3",
   "language": "python",
   "name": "python3"
  },
  "language_info": {
   "codemirror_mode": {
    "name": "ipython",
    "version": 3
   },
   "file_extension": ".py",
   "mimetype": "text/x-python",
   "name": "python",
   "nbconvert_exporter": "python",
   "pygments_lexer": "ipython3",
   "version": "3.8.3"
  }
 },
 "nbformat": 4,
 "nbformat_minor": 4
}
