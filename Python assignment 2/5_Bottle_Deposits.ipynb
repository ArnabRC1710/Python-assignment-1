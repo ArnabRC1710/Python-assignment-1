{
 "cells": [
  {
   "cell_type": "code",
   "execution_count": 13,
   "metadata": {},
   "outputs": [
    {
     "name": "stdout",
     "output_type": "stream",
     "text": [
      "Enter the number on small container, containing 1 litre or less: 12\n"
     ]
    }
   ],
   "source": [
    "#In this program the user will input the number of small and large container. The refund amount will be calculated and printed\n",
    "# User input to give number of small container\n",
    "small_num = float(input(\"Enter the number on small container, containing 1 litre or less: \"))\n",
    "\n"
   ]
  },
  {
   "cell_type": "code",
   "execution_count": 14,
   "metadata": {},
   "outputs": [
    {
     "name": "stdout",
     "output_type": "stream",
     "text": [
      "Enter the number on large container, containing more than 1 liter: 56\n"
     ]
    }
   ],
   "source": [
    "# User input to give number of large container\n",
    "large_num= float(input(\"Enter the number on large container, containing more than 1 liter: \"))\n",
    "\n"
   ]
  },
  {
   "cell_type": "code",
   "execution_count": 15,
   "metadata": {},
   "outputs": [],
   "source": [
    "#calculating the deposit amount\n",
    "small_amount = 0.10 * small_num # For each small container the user gets $0.10\n",
    "large_amount = 0.25 * large_num # For each large container the user gets $0.25\n",
    "\n"
   ]
  },
  {
   "cell_type": "code",
   "execution_count": 16,
   "metadata": {},
   "outputs": [
    {
     "name": "stdout",
     "output_type": "stream",
     "text": [
      "You will get a refund of $ 15.2\n"
     ]
    }
   ],
   "source": [
    "#Total amount\n",
    "total_amount = small_amount + large_amount\n",
    "\n",
    "#Print totala amount\n",
    "print(\"You will get a refund of $\",round(total_amount,2))"
   ]
  },
  {
   "cell_type": "code",
   "execution_count": null,
   "metadata": {},
   "outputs": [],
   "source": []
  }
 ],
 "metadata": {
  "kernelspec": {
   "display_name": "Python 3",
   "language": "python",
   "name": "python3"
  },
  "language_info": {
   "codemirror_mode": {
    "name": "ipython",
    "version": 3
   },
   "file_extension": ".py",
   "mimetype": "text/x-python",
   "name": "python",
   "nbconvert_exporter": "python",
   "pygments_lexer": "ipython3",
   "version": "3.8.3"
  }
 },
 "nbformat": 4,
 "nbformat_minor": 4
}
