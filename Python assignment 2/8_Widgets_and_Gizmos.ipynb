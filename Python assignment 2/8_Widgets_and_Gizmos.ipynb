{
 "cells": [
  {
   "cell_type": "code",
   "execution_count": null,
   "metadata": {},
   "outputs": [],
   "source": [
    "#Calculate total weight of an order, by individual weight of widgets and gizmos"
   ]
  },
  {
   "cell_type": "code",
   "execution_count": null,
   "metadata": {},
   "outputs": [],
   "source": [
    "#Ask for number of widget in order\n",
    "widget_count = int(input(\"How many widgets are in the order? \"))"
   ]
  },
  {
   "cell_type": "code",
   "execution_count": null,
   "metadata": {},
   "outputs": [],
   "source": [
    "#Ask for number of gizmos in order\n",
    "gizmo_count = int(input(\"How many gizmos are in the order? \"))"
   ]
  },
  {
   "cell_type": "code",
   "execution_count": null,
   "metadata": {},
   "outputs": [],
   "source": [
    "# find the total weight\n",
    "widget_weight = 0.075 * widget_count # single widget weighs 75 grams or 0.075kg\n",
    "gizmo_weight = 0.075 * gizmo_count # single gizmo weighs 112 grams or 0.112kg\n",
    "total_weight = widget_weight + gizmo_weight"
   ]
  },
  {
   "cell_type": "code",
   "execution_count": null,
   "metadata": {},
   "outputs": [],
   "source": [
    "#Printing the total weight\n",
    "print(\"Total weight of the order is\",total_weight,\"kg\")"
   ]
  }
 ],
 "metadata": {
  "kernelspec": {
   "display_name": "Python 3",
   "language": "python",
   "name": "python3"
  },
  "language_info": {
   "codemirror_mode": {
    "name": "ipython",
    "version": 3
   },
   "file_extension": ".py",
   "mimetype": "text/x-python",
   "name": "python",
   "nbconvert_exporter": "python",
   "pygments_lexer": "ipython3",
   "version": "3.8.3"
  }
 },
 "nbformat": 4,
 "nbformat_minor": 4
}
